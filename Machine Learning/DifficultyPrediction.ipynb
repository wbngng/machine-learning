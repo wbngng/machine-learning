{
  "nbformat": 4,
  "nbformat_minor": 0,
  "metadata": {
    "colab": {
      "provenance": []
    },
    "kernelspec": {
      "name": "python3",
      "display_name": "Python 3"
    },
    "language_info": {
      "name": "python"
    }
  },
  "cells": [
    {
      "cell_type": "code",
      "source": [
        "from google.colab import drive\n",
        "drive.mount('/content/drive')"
      ],
      "metadata": {
        "colab": {
          "base_uri": "https://localhost:8080/"
        },
        "id": "LpIQslMUvpaP",
        "outputId": "16e9cb80-3648-40f3-9077-b9410667f908"
      },
      "execution_count": 1,
      "outputs": [
        {
          "output_type": "stream",
          "name": "stdout",
          "text": [
            "Drive already mounted at /content/drive; to attempt to forcibly remount, call drive.mount(\"/content/drive\", force_remount=True).\n"
          ]
        }
      ]
    },
    {
      "cell_type": "code",
      "source": [
        "kaggle_json_path = '/content/drive/MyDrive/Colab Notebooks/Kaggle/kaggle.json'"
      ],
      "metadata": {
        "id": "SuWoMbF4xI1j"
      },
      "execution_count": 2,
      "outputs": []
    },
    {
      "cell_type": "code",
      "execution_count": 3,
      "metadata": {
        "colab": {
          "base_uri": "https://localhost:8080/"
        },
        "id": "30lqhSj1Nri5",
        "outputId": "0349d0da-cb3b-4baf-aadd-6d7ba8140496"
      },
      "outputs": [
        {
          "output_type": "stream",
          "name": "stdout",
          "text": [
            "Requirement already satisfied: kaggle in /usr/local/lib/python3.10/dist-packages (1.6.17)\n",
            "Requirement already satisfied: six>=1.10 in /usr/local/lib/python3.10/dist-packages (from kaggle) (1.17.0)\n",
            "Requirement already satisfied: certifi>=2023.7.22 in /usr/local/lib/python3.10/dist-packages (from kaggle) (2024.8.30)\n",
            "Requirement already satisfied: python-dateutil in /usr/local/lib/python3.10/dist-packages (from kaggle) (2.8.2)\n",
            "Requirement already satisfied: requests in /usr/local/lib/python3.10/dist-packages (from kaggle) (2.32.3)\n",
            "Requirement already satisfied: tqdm in /usr/local/lib/python3.10/dist-packages (from kaggle) (4.66.6)\n",
            "Requirement already satisfied: python-slugify in /usr/local/lib/python3.10/dist-packages (from kaggle) (8.0.4)\n",
            "Requirement already satisfied: urllib3 in /usr/local/lib/python3.10/dist-packages (from kaggle) (2.2.3)\n",
            "Requirement already satisfied: bleach in /usr/local/lib/python3.10/dist-packages (from kaggle) (6.2.0)\n",
            "Requirement already satisfied: webencodings in /usr/local/lib/python3.10/dist-packages (from bleach->kaggle) (0.5.1)\n",
            "Requirement already satisfied: text-unidecode>=1.3 in /usr/local/lib/python3.10/dist-packages (from python-slugify->kaggle) (1.3)\n",
            "Requirement already satisfied: charset-normalizer<4,>=2 in /usr/local/lib/python3.10/dist-packages (from requests->kaggle) (3.4.0)\n",
            "Requirement already satisfied: idna<4,>=2.5 in /usr/local/lib/python3.10/dist-packages (from requests->kaggle) (3.10)\n"
          ]
        }
      ],
      "source": [
        "!pip install kaggle"
      ]
    },
    {
      "cell_type": "code",
      "source": [
        "import shutil\n",
        "\n",
        "!mkdir /root/.kaggle\n",
        "\n",
        "shutil.copy(kaggle_json_path, '/root/.kaggle')\n",
        "\n",
        "!chmod 600 ~/.kaggle/kaggle.json"
      ],
      "metadata": {
        "colab": {
          "base_uri": "https://localhost:8080/",
          "height": 35
        },
        "id": "Hsv5risLxZG3",
        "outputId": "0a1a485e-13cf-4de2-edf6-7d2d3d511a8d"
      },
      "execution_count": 4,
      "outputs": [
        {
          "output_type": "execute_result",
          "data": {
            "text/plain": [
              "'/root/.kaggle/kaggle.json'"
            ],
            "application/vnd.google.colaboratory.intrinsic+json": {
              "type": "string"
            }
          },
          "metadata": {},
          "execution_count": 4
        }
      ]
    },
    {
      "cell_type": "code",
      "source": [
        "import kagglehub\n",
        "\n",
        "# Download latest version\n",
        "path = kagglehub.dataset_download(\"nicolaswattiez/skillbuilder-data-2009-2010\")\n",
        "\n",
        "print(\"Path to dataset files:\", path)"
      ],
      "metadata": {
        "colab": {
          "base_uri": "https://localhost:8080/"
        },
        "id": "O9R9dYjlPoSX",
        "outputId": "152cb8fa-a54c-4acc-8ca9-6bfade30d6a3"
      },
      "execution_count": 6,
      "outputs": [
        {
          "output_type": "stream",
          "name": "stdout",
          "text": [
            "Downloading from https://www.kaggle.com/api/v1/datasets/download/nicolaswattiez/skillbuilder-data-2009-2010?dataset_version_number=4...\n"
          ]
        },
        {
          "output_type": "stream",
          "name": "stderr",
          "text": [
            "100%|██████████| 629M/629M [00:29<00:00, 22.3MB/s]"
          ]
        },
        {
          "output_type": "stream",
          "name": "stdout",
          "text": [
            "Extracting files...\n"
          ]
        },
        {
          "output_type": "stream",
          "name": "stderr",
          "text": [
            "\n"
          ]
        },
        {
          "output_type": "stream",
          "name": "stdout",
          "text": [
            "Path to dataset files: /root/.cache/kagglehub/datasets/nicolaswattiez/skillbuilder-data-2009-2010/versions/4\n"
          ]
        }
      ]
    },
    {
      "cell_type": "markdown",
      "source": [
        "Import Packages"
      ],
      "metadata": {
        "id": "3Md_5euRujnZ"
      }
    },
    {
      "cell_type": "code",
      "source": [
        "import pandas as pd\n",
        "import tensorflow as tf\n",
        "from tensorflow.keras import layers, models\n",
        "from tensorflow.keras.models import load_model"
      ],
      "metadata": {
        "id": "NAGg3TzeQkrw"
      },
      "execution_count": 7,
      "outputs": []
    },
    {
      "cell_type": "code",
      "source": [
        "data = pd.read_csv('/root/.cache/kagglehub/datasets/nicolaswattiez/skillbuilder-data-2009-2010/versions/4/2012-2013-data-with-predictions-4-final.csv')"
      ],
      "metadata": {
        "id": "ng5h9bcMt6On"
      },
      "execution_count": 8,
      "outputs": []
    },
    {
      "cell_type": "code",
      "source": [
        "# Randomly sample 100,000 rows\n",
        "train_df = data.sample(n=100000, random_state=42)"
      ],
      "metadata": {
        "id": "DGZaE-UQuugw"
      },
      "execution_count": 9,
      "outputs": []
    },
    {
      "cell_type": "code",
      "source": [
        "column_names = train_df.columns\n",
        "\n",
        "print(column_names)"
      ],
      "metadata": {
        "colab": {
          "base_uri": "https://localhost:8080/"
        },
        "id": "q0I9Mzg_Y6sl",
        "outputId": "7f15740d-2da1-4a69-a9e8-30e868623b26"
      },
      "execution_count": 10,
      "outputs": [
        {
          "output_type": "stream",
          "name": "stdout",
          "text": [
            "Index(['problem_log_id', 'skill', 'problem_id', 'user_id', 'assignment_id',\n",
            "       'assistment_id', 'start_time', 'end_time', 'problem_type', 'original',\n",
            "       'correct', 'bottom_hint', 'hint_count', 'actions', 'attempt_count',\n",
            "       'ms_first_response', 'tutor_mode', 'sequence_id', 'student_class_id',\n",
            "       'position', 'type', 'base_sequence_id', 'skill_id', 'teacher_id',\n",
            "       'school_id', 'overlap_time', 'template_id', 'answer_id', 'answer_text',\n",
            "       'first_action', 'problemlogid', 'Average_confidence(FRUSTRATED)',\n",
            "       'Average_confidence(CONFUSED)', 'Average_confidence(CONCENTRATING)',\n",
            "       'Average_confidence(BORED)'],\n",
            "      dtype='object')\n"
          ]
        }
      ]
    },
    {
      "cell_type": "markdown",
      "source": [
        "Preprocessing The Dataset"
      ],
      "metadata": {
        "id": "KIuWSDOVarMy"
      }
    },
    {
      "cell_type": "markdown",
      "source": [
        "Dropping Columns"
      ],
      "metadata": {
        "id": "1yrIPzgBi12N"
      }
    },
    {
      "cell_type": "code",
      "source": [
        "train_df.drop(columns=['problem_log_id', 'skill', 'problem_id', 'user_id', 'assignment_id', 'assistment_id', 'start_time', 'end_time', 'problem_type', 'original', 'bottom_hint', 'actions', 'ms_first_response',\n",
        "       'tutor_mode', 'sequence_id', 'student_class_id', 'position', 'type', 'base_sequence_id', 'skill_id', 'teacher_id',\n",
        "       'school_id', 'answer_id', 'answer_text', 'template_id', 'first_action', 'problemlogid', 'Average_confidence(FRUSTRATED)', 'Average_confidence(CONFUSED)', 'Average_confidence(CONCENTRATING)',\n",
        "       'Average_confidence(BORED)'], inplace=True)"
      ],
      "metadata": {
        "id": "EIER7MfnYL09"
      },
      "execution_count": 11,
      "outputs": []
    },
    {
      "cell_type": "code",
      "source": [
        "column_names = train_df.columns\n",
        "print(column_names)"
      ],
      "metadata": {
        "colab": {
          "base_uri": "https://localhost:8080/"
        },
        "id": "G4mWhdxtfpxA",
        "outputId": "54f5ffba-40bb-47e0-ff62-be6984b1c986"
      },
      "execution_count": 12,
      "outputs": [
        {
          "output_type": "stream",
          "name": "stdout",
          "text": [
            "Index(['correct', 'hint_count', 'attempt_count', 'overlap_time'], dtype='object')\n"
          ]
        }
      ]
    },
    {
      "cell_type": "code",
      "source": [
        "train_df['attempt_and_hint'] = train_df['attempt_count'] * train_df['hint_count']\n",
        "\n",
        "train_df['difficulty_score'] = (\n",
        "    (1 - train_df['correct']) * 2 +  # Higher weight for incorrect attempts\n",
        "    (0.8 * train_df['attempt_count']) +  # Higher weight for more attempts\n",
        "    (0.5 * train_df['hint_count']) +  # Increased weight for hint usage\n",
        "    (0.3 * train_df['overlap_time'])  # Overlap time as a factor\n",
        ")\n",
        "\n",
        "train_df['difficulty_score'] = 1 + 9 * (train_df['difficulty_score'] - min_score) / (max_score - min_score)"
      ],
      "metadata": {
        "id": "a3lL5tivl0q_"
      },
      "execution_count": 29,
      "outputs": []
    },
    {
      "cell_type": "markdown",
      "source": [
        "Preprocessing"
      ],
      "metadata": {
        "id": "IaWGmmwEh9Vj"
      }
    },
    {
      "cell_type": "code",
      "source": [
        "from sklearn.model_selection import train_test_split\n",
        "\n",
        "X = train_df[['correct', 'attempt_count', 'hint_count', 'overlap_time']]\n",
        "y = train_df['difficulty_score']\n",
        "\n",
        "X_train, X_test, y_train, y_test = train_test_split(X, y, test_size=0.2, random_state=42)\n",
        "\n",
        "print(\"Training set size:\", X_train.shape[0])\n",
        "print(\"Test set size:\", X_test.shape[0])\n"
      ],
      "metadata": {
        "colab": {
          "base_uri": "https://localhost:8080/"
        },
        "id": "lwAui8sQh_mS",
        "outputId": "5b1aa2c4-021c-4358-e667-c0d2d58e5fb7"
      },
      "execution_count": 24,
      "outputs": [
        {
          "output_type": "stream",
          "name": "stdout",
          "text": [
            "Training set size: 80000\n",
            "Test set size: 20000\n"
          ]
        }
      ]
    },
    {
      "cell_type": "code",
      "source": [
        "model = models.Sequential([\n",
        "    layers.Input(shape=(X_train.shape[1],)),\n",
        "    layers.Dense(128, activation='relu'),\n",
        "    layers.Dropout(0.3),\n",
        "    layers.Dense(64, activation='relu'),\n",
        "    layers.Dropout(0.3),\n",
        "    layers.Dense(32, activation='relu'),\n",
        "    layers.Dense(1, activation='linear')  # Linear activation for regression\n",
        "])\n",
        "\n",
        "model.compile(optimizer='adam', loss='mean_squared_error', metrics=['mae'])\n",
        "\n",
        "history = model.fit(X_train, y_train, validation_split=0.2, epochs=50, batch_size=16)\n",
        "\n",
        "loss, mae = model.evaluate(X_test, y_test)\n",
        "print(f\"Mean Absolute Error: {mae}\")\n"
      ],
      "metadata": {
        "colab": {
          "base_uri": "https://localhost:8080/"
        },
        "id": "Jk5NmdOakIOx",
        "outputId": "63a4b07d-6390-4926-865e-e474cd6dc89c"
      },
      "execution_count": 47,
      "outputs": [
        {
          "output_type": "stream",
          "name": "stdout",
          "text": [
            "Epoch 1/50\n",
            "\u001b[1m4000/4000\u001b[0m \u001b[32m━━━━━━━━━━━━━━━━━━━━\u001b[0m\u001b[37m\u001b[0m \u001b[1m12s\u001b[0m 3ms/step - loss: 1384936.7500 - mae: 343.6760 - val_loss: 0.9580 - val_mae: 0.9773\n",
            "Epoch 2/50\n",
            "\u001b[1m4000/4000\u001b[0m \u001b[32m━━━━━━━━━━━━━━━━━━━━\u001b[0m\u001b[37m\u001b[0m \u001b[1m19s\u001b[0m 2ms/step - loss: 1886.1847 - mae: 7.4677 - val_loss: 0.4858 - val_mae: 0.6949\n",
            "Epoch 3/50\n",
            "\u001b[1m4000/4000\u001b[0m \u001b[32m━━━━━━━━━━━━━━━━━━━━\u001b[0m\u001b[37m\u001b[0m \u001b[1m11s\u001b[0m 3ms/step - loss: 191.8353 - mae: 1.3659 - val_loss: 0.0335 - val_mae: 0.1751\n",
            "Epoch 4/50\n",
            "\u001b[1m4000/4000\u001b[0m \u001b[32m━━━━━━━━━━━━━━━━━━━━\u001b[0m\u001b[37m\u001b[0m \u001b[1m19s\u001b[0m 2ms/step - loss: 30.2184 - mae: 0.2550 - val_loss: 0.0031 - val_mae: 0.0418\n",
            "Epoch 5/50\n",
            "\u001b[1m4000/4000\u001b[0m \u001b[32m━━━━━━━━━━━━━━━━━━━━\u001b[0m\u001b[37m\u001b[0m \u001b[1m12s\u001b[0m 3ms/step - loss: 3.2652 - mae: 0.0798 - val_loss: 0.0028 - val_mae: 0.0344\n",
            "Epoch 6/50\n",
            "\u001b[1m4000/4000\u001b[0m \u001b[32m━━━━━━━━━━━━━━━━━━━━\u001b[0m\u001b[37m\u001b[0m \u001b[1m12s\u001b[0m 3ms/step - loss: 159.6812 - mae: 0.1248 - val_loss: 0.0028 - val_mae: 0.0320\n",
            "Epoch 7/50\n",
            "\u001b[1m4000/4000\u001b[0m \u001b[32m━━━━━━━━━━━━━━━━━━━━\u001b[0m\u001b[37m\u001b[0m \u001b[1m10s\u001b[0m 2ms/step - loss: 27.6808 - mae: 0.0852 - val_loss: 0.0028 - val_mae: 0.0335\n",
            "Epoch 8/50\n",
            "\u001b[1m4000/4000\u001b[0m \u001b[32m━━━━━━━━━━━━━━━━━━━━\u001b[0m\u001b[37m\u001b[0m \u001b[1m11s\u001b[0m 3ms/step - loss: 5.6402 - mae: 0.0634 - val_loss: 0.0028 - val_mae: 0.0331\n",
            "Epoch 9/50\n",
            "\u001b[1m4000/4000\u001b[0m \u001b[32m━━━━━━━━━━━━━━━━━━━━\u001b[0m\u001b[37m\u001b[0m \u001b[1m11s\u001b[0m 3ms/step - loss: 118.8799 - mae: 0.0791 - val_loss: 0.0028 - val_mae: 0.0332\n",
            "Epoch 10/50\n",
            "\u001b[1m4000/4000\u001b[0m \u001b[32m━━━━━━━━━━━━━━━━━━━━\u001b[0m\u001b[37m\u001b[0m \u001b[1m9s\u001b[0m 2ms/step - loss: 1.9772 - mae: 0.0452 - val_loss: 0.0028 - val_mae: 0.0326\n",
            "Epoch 11/50\n",
            "\u001b[1m4000/4000\u001b[0m \u001b[32m━━━━━━━━━━━━━━━━━━━━\u001b[0m\u001b[37m\u001b[0m \u001b[1m11s\u001b[0m 3ms/step - loss: 233.1238 - mae: 0.1679 - val_loss: 0.0028 - val_mae: 0.0325\n",
            "Epoch 12/50\n",
            "\u001b[1m4000/4000\u001b[0m \u001b[32m━━━━━━━━━━━━━━━━━━━━\u001b[0m\u001b[37m\u001b[0m \u001b[1m10s\u001b[0m 2ms/step - loss: 3.8775 - mae: 0.0376 - val_loss: 0.0029 - val_mae: 0.0361\n",
            "Epoch 13/50\n",
            "\u001b[1m4000/4000\u001b[0m \u001b[32m━━━━━━━━━━━━━━━━━━━━\u001b[0m\u001b[37m\u001b[0m \u001b[1m9s\u001b[0m 2ms/step - loss: 3.4970 - mae: 0.0419 - val_loss: 0.0062 - val_mae: 0.0581\n",
            "Epoch 14/50\n",
            "\u001b[1m4000/4000\u001b[0m \u001b[32m━━━━━━━━━━━━━━━━━━━━\u001b[0m\u001b[37m\u001b[0m \u001b[1m13s\u001b[0m 3ms/step - loss: 0.0862 - mae: 0.0361 - val_loss: 0.0064 - val_mae: 0.0735\n",
            "Epoch 15/50\n",
            "\u001b[1m4000/4000\u001b[0m \u001b[32m━━━━━━━━━━━━━━━━━━━━\u001b[0m\u001b[37m\u001b[0m \u001b[1m11s\u001b[0m 3ms/step - loss: 6.0620 - mae: 0.0527 - val_loss: 0.0028 - val_mae: 0.0328\n",
            "Epoch 16/50\n",
            "\u001b[1m4000/4000\u001b[0m \u001b[32m━━━━━━━━━━━━━━━━━━━━\u001b[0m\u001b[37m\u001b[0m \u001b[1m20s\u001b[0m 3ms/step - loss: 15.4808 - mae: 0.0591 - val_loss: 0.0028 - val_mae: 0.0337\n",
            "Epoch 17/50\n",
            "\u001b[1m4000/4000\u001b[0m \u001b[32m━━━━━━━━━━━━━━━━━━━━\u001b[0m\u001b[37m\u001b[0m \u001b[1m11s\u001b[0m 3ms/step - loss: 0.5999 - mae: 0.0356 - val_loss: 0.0029 - val_mae: 0.0348\n",
            "Epoch 18/50\n",
            "\u001b[1m4000/4000\u001b[0m \u001b[32m━━━━━━━━━━━━━━━━━━━━\u001b[0m\u001b[37m\u001b[0m \u001b[1m9s\u001b[0m 2ms/step - loss: 0.5872 - mae: 0.0430 - val_loss: 0.0028 - val_mae: 0.0320\n",
            "Epoch 19/50\n",
            "\u001b[1m4000/4000\u001b[0m \u001b[32m━━━━━━━━━━━━━━━━━━━━\u001b[0m\u001b[37m\u001b[0m \u001b[1m11s\u001b[0m 3ms/step - loss: 1.7282 - mae: 0.0390 - val_loss: 0.0028 - val_mae: 0.0329\n",
            "Epoch 20/50\n",
            "\u001b[1m4000/4000\u001b[0m \u001b[32m━━━━━━━━━━━━━━━━━━━━\u001b[0m\u001b[37m\u001b[0m \u001b[1m11s\u001b[0m 3ms/step - loss: 1.7252 - mae: 0.0439 - val_loss: 0.0028 - val_mae: 0.0341\n",
            "Epoch 21/50\n",
            "\u001b[1m4000/4000\u001b[0m \u001b[32m━━━━━━━━━━━━━━━━━━━━\u001b[0m\u001b[37m\u001b[0m \u001b[1m19s\u001b[0m 2ms/step - loss: 2.7291 - mae: 0.0380 - val_loss: 0.0028 - val_mae: 0.0330\n",
            "Epoch 22/50\n",
            "\u001b[1m4000/4000\u001b[0m \u001b[32m━━━━━━━━━━━━━━━━━━━━\u001b[0m\u001b[37m\u001b[0m \u001b[1m11s\u001b[0m 3ms/step - loss: 0.0604 - mae: 0.0352 - val_loss: 0.0028 - val_mae: 0.0328\n",
            "Epoch 23/50\n",
            "\u001b[1m4000/4000\u001b[0m \u001b[32m━━━━━━━━━━━━━━━━━━━━\u001b[0m\u001b[37m\u001b[0m \u001b[1m10s\u001b[0m 3ms/step - loss: 1.9310 - mae: 0.0466 - val_loss: 0.0028 - val_mae: 0.0340\n",
            "Epoch 24/50\n",
            "\u001b[1m4000/4000\u001b[0m \u001b[32m━━━━━━━━━━━━━━━━━━━━\u001b[0m\u001b[37m\u001b[0m \u001b[1m9s\u001b[0m 2ms/step - loss: 1.2314 - mae: 0.0380 - val_loss: 0.0028 - val_mae: 0.0327\n",
            "Epoch 25/50\n",
            "\u001b[1m4000/4000\u001b[0m \u001b[32m━━━━━━━━━━━━━━━━━━━━\u001b[0m\u001b[37m\u001b[0m \u001b[1m11s\u001b[0m 3ms/step - loss: 7.5001 - mae: 0.0472 - val_loss: 0.0028 - val_mae: 0.0317\n",
            "Epoch 26/50\n",
            "\u001b[1m4000/4000\u001b[0m \u001b[32m━━━━━━━━━━━━━━━━━━━━\u001b[0m\u001b[37m\u001b[0m \u001b[1m19s\u001b[0m 2ms/step - loss: 0.0443 - mae: 0.0352 - val_loss: 0.0028 - val_mae: 0.0331\n",
            "Epoch 27/50\n",
            "\u001b[1m4000/4000\u001b[0m \u001b[32m━━━━━━━━━━━━━━━━━━━━\u001b[0m\u001b[37m\u001b[0m \u001b[1m11s\u001b[0m 3ms/step - loss: 7.6637 - mae: 0.0518 - val_loss: 0.0028 - val_mae: 0.0336\n",
            "Epoch 28/50\n",
            "\u001b[1m4000/4000\u001b[0m \u001b[32m━━━━━━━━━━━━━━━━━━━━\u001b[0m\u001b[37m\u001b[0m \u001b[1m19s\u001b[0m 2ms/step - loss: 0.1371 - mae: 0.0372 - val_loss: 0.0028 - val_mae: 0.0321\n",
            "Epoch 29/50\n",
            "\u001b[1m4000/4000\u001b[0m \u001b[32m━━━━━━━━━━━━━━━━━━━━\u001b[0m\u001b[37m\u001b[0m \u001b[1m11s\u001b[0m 3ms/step - loss: 0.2229 - mae: 0.0357 - val_loss: 0.0028 - val_mae: 0.0339\n",
            "Epoch 30/50\n",
            "\u001b[1m4000/4000\u001b[0m \u001b[32m━━━━━━━━━━━━━━━━━━━━\u001b[0m\u001b[37m\u001b[0m \u001b[1m11s\u001b[0m 3ms/step - loss: 0.0629 - mae: 0.0359 - val_loss: 0.0028 - val_mae: 0.0324\n",
            "Epoch 31/50\n",
            "\u001b[1m4000/4000\u001b[0m \u001b[32m━━━━━━━━━━━━━━━━━━━━\u001b[0m\u001b[37m\u001b[0m \u001b[1m20s\u001b[0m 3ms/step - loss: 3.6275 - mae: 0.0465 - val_loss: 0.0028 - val_mae: 0.0315\n",
            "Epoch 32/50\n",
            "\u001b[1m4000/4000\u001b[0m \u001b[32m━━━━━━━━━━━━━━━━━━━━\u001b[0m\u001b[37m\u001b[0m \u001b[1m10s\u001b[0m 3ms/step - loss: 12.1092 - mae: 0.0539 - val_loss: 0.0028 - val_mae: 0.0325\n",
            "Epoch 33/50\n",
            "\u001b[1m4000/4000\u001b[0m \u001b[32m━━━━━━━━━━━━━━━━━━━━\u001b[0m\u001b[37m\u001b[0m \u001b[1m8s\u001b[0m 2ms/step - loss: 0.0085 - mae: 0.0345 - val_loss: 0.0028 - val_mae: 0.0327\n",
            "Epoch 34/50\n",
            "\u001b[1m4000/4000\u001b[0m \u001b[32m━━━━━━━━━━━━━━━━━━━━\u001b[0m\u001b[37m\u001b[0m \u001b[1m10s\u001b[0m 3ms/step - loss: 2.3700 - mae: 0.0392 - val_loss: 0.0029 - val_mae: 0.0313\n",
            "Epoch 35/50\n",
            "\u001b[1m4000/4000\u001b[0m \u001b[32m━━━━━━━━━━━━━━━━━━━━\u001b[0m\u001b[37m\u001b[0m \u001b[1m10s\u001b[0m 2ms/step - loss: 0.3016 - mae: 0.0357 - val_loss: 0.0028 - val_mae: 0.0328\n",
            "Epoch 36/50\n",
            "\u001b[1m4000/4000\u001b[0m \u001b[32m━━━━━━━━━━━━━━━━━━━━\u001b[0m\u001b[37m\u001b[0m \u001b[1m9s\u001b[0m 2ms/step - loss: 0.7376 - mae: 0.0402 - val_loss: 0.0028 - val_mae: 0.0344\n",
            "Epoch 37/50\n",
            "\u001b[1m4000/4000\u001b[0m \u001b[32m━━━━━━━━━━━━━━━━━━━━\u001b[0m\u001b[37m\u001b[0m \u001b[1m12s\u001b[0m 3ms/step - loss: 1.3203 - mae: 0.0376 - val_loss: 0.0029 - val_mae: 0.0367\n",
            "Epoch 38/50\n",
            "\u001b[1m4000/4000\u001b[0m \u001b[32m━━━━━━━━━━━━━━━━━━━━\u001b[0m\u001b[37m\u001b[0m \u001b[1m19s\u001b[0m 2ms/step - loss: 0.2438 - mae: 0.0349 - val_loss: 0.0029 - val_mae: 0.0348\n",
            "Epoch 39/50\n",
            "\u001b[1m4000/4000\u001b[0m \u001b[32m━━━━━━━━━━━━━━━━━━━━\u001b[0m\u001b[37m\u001b[0m \u001b[1m11s\u001b[0m 3ms/step - loss: 0.1060 - mae: 0.0352 - val_loss: 0.0029 - val_mae: 0.0313\n",
            "Epoch 40/50\n",
            "\u001b[1m4000/4000\u001b[0m \u001b[32m━━━━━━━━━━━━━━━━━━━━\u001b[0m\u001b[37m\u001b[0m \u001b[1m11s\u001b[0m 3ms/step - loss: 0.1366 - mae: 0.0352 - val_loss: 0.0028 - val_mae: 0.0334\n",
            "Epoch 41/50\n",
            "\u001b[1m4000/4000\u001b[0m \u001b[32m━━━━━━━━━━━━━━━━━━━━\u001b[0m\u001b[37m\u001b[0m \u001b[1m9s\u001b[0m 2ms/step - loss: 9.7910 - mae: 0.0592 - val_loss: 0.0028 - val_mae: 0.0326\n",
            "Epoch 42/50\n",
            "\u001b[1m4000/4000\u001b[0m \u001b[32m━━━━━━━━━━━━━━━━━━━━\u001b[0m\u001b[37m\u001b[0m \u001b[1m11s\u001b[0m 3ms/step - loss: 0.0202 - mae: 0.0343 - val_loss: 0.0028 - val_mae: 0.0334\n",
            "Epoch 43/50\n",
            "\u001b[1m4000/4000\u001b[0m \u001b[32m━━━━━━━━━━━━━━━━━━━━\u001b[0m\u001b[37m\u001b[0m \u001b[1m22s\u001b[0m 3ms/step - loss: 0.5416 - mae: 0.0357 - val_loss: 0.0029 - val_mae: 0.0353\n",
            "Epoch 44/50\n",
            "\u001b[1m4000/4000\u001b[0m \u001b[32m━━━━━━━━━━━━━━━━━━━━\u001b[0m\u001b[37m\u001b[0m \u001b[1m19s\u001b[0m 3ms/step - loss: 0.0477 - mae: 0.0346 - val_loss: 0.0029 - val_mae: 0.0308\n",
            "Epoch 45/50\n",
            "\u001b[1m4000/4000\u001b[0m \u001b[32m━━━━━━━━━━━━━━━━━━━━\u001b[0m\u001b[37m\u001b[0m \u001b[1m18s\u001b[0m 2ms/step - loss: 0.0127 - mae: 0.0345 - val_loss: 0.0028 - val_mae: 0.0332\n",
            "Epoch 46/50\n",
            "\u001b[1m4000/4000\u001b[0m \u001b[32m━━━━━━━━━━━━━━━━━━━━\u001b[0m\u001b[37m\u001b[0m \u001b[1m10s\u001b[0m 3ms/step - loss: 0.0098 - mae: 0.0341 - val_loss: 0.0028 - val_mae: 0.0328\n",
            "Epoch 47/50\n",
            "\u001b[1m4000/4000\u001b[0m \u001b[32m━━━━━━━━━━━━━━━━━━━━\u001b[0m\u001b[37m\u001b[0m \u001b[1m19s\u001b[0m 2ms/step - loss: 0.0385 - mae: 0.0354 - val_loss: 0.0029 - val_mae: 0.0348\n",
            "Epoch 48/50\n",
            "\u001b[1m4000/4000\u001b[0m \u001b[32m━━━━━━━━━━━━━━━━━━━━\u001b[0m\u001b[37m\u001b[0m \u001b[1m12s\u001b[0m 3ms/step - loss: 1.3849 - mae: 0.0443 - val_loss: 0.0029 - val_mae: 0.0346\n",
            "Epoch 49/50\n",
            "\u001b[1m4000/4000\u001b[0m \u001b[32m━━━━━━━━━━━━━━━━━━━━\u001b[0m\u001b[37m\u001b[0m \u001b[1m10s\u001b[0m 3ms/step - loss: 0.0076 - mae: 0.0344 - val_loss: 0.0028 - val_mae: 0.0333\n",
            "Epoch 50/50\n",
            "\u001b[1m4000/4000\u001b[0m \u001b[32m━━━━━━━━━━━━━━━━━━━━\u001b[0m\u001b[37m\u001b[0m \u001b[1m9s\u001b[0m 2ms/step - loss: 0.0440 - mae: 0.0350 - val_loss: 0.0028 - val_mae: 0.0325\n",
            "\u001b[1m625/625\u001b[0m \u001b[32m━━━━━━━━━━━━━━━━━━━━\u001b[0m\u001b[37m\u001b[0m \u001b[1m1s\u001b[0m 2ms/step - loss: 0.0044 - mae: 0.0330\n",
            "Mean Absolute Error: 0.03335500881075859\n"
          ]
        }
      ]
    },
    {
      "cell_type": "code",
      "source": [
        "import numpy as np\n",
        "\n",
        "new_data = np.array([[0, 6, 3, 20000]])\n",
        "\n",
        "predicted_difficulty = model.predict(new_data)\n",
        "\n",
        "print(f\"Predicted Difficulty: {predicted_difficulty}\")\n",
        "\n",
        "desired_min = 0\n",
        "desired_max = 10\n",
        "\n",
        "output_min = np.min(predicted_difficulty)\n",
        "output_max = np.max(predicted_difficulty)\n",
        "\n",
        "if output_min == output_max:\n",
        "    print(\"Warning: All predicted values are the same. Scaling will not work properly.\")\n",
        "    scaled_difficulty_score = np.array([[5]])\n",
        "else:\n",
        "    scaled_difficulty_score = (predicted_difficulty - output_min) / (output_max - output_min) * (desired_max - desired_min) + desired_min\n",
        "\n",
        "    scaled_difficulty_score = np.clip(scaled_difficulty_score, 0, 10)\n",
        "\n",
        "print(f\"Scaled Difficulty Score: {scaled_difficulty_score[0][0]:.2f}\")"
      ],
      "metadata": {
        "colab": {
          "base_uri": "https://localhost:8080/"
        },
        "id": "deIIY-PpkSW1",
        "outputId": "8f1d74f0-6dba-4f8f-c906-217747ede2ba"
      },
      "execution_count": 51,
      "outputs": [
        {
          "output_type": "stream",
          "name": "stdout",
          "text": [
            "\u001b[1m1/1\u001b[0m \u001b[32m━━━━━━━━━━━━━━━━━━━━\u001b[0m\u001b[37m\u001b[0m \u001b[1m0s\u001b[0m 36ms/step\n",
            "Predicted Difficulty: [[1.0396135]]\n",
            "Warning: All predicted values are the same. Scaling will not work properly.\n",
            "Scaled Difficulty Score: 5.00\n"
          ]
        }
      ]
    },
    {
      "cell_type": "code",
      "source": [
        "model.save('model.h5')"
      ],
      "metadata": {
        "colab": {
          "base_uri": "https://localhost:8080/"
        },
        "id": "tnZQbz2bnxYR",
        "outputId": "8257e410-8ad6-4947-d76a-8dfd2421e051"
      },
      "execution_count": 54,
      "outputs": [
        {
          "output_type": "stream",
          "name": "stderr",
          "text": [
            "WARNING:absl:You are saving your model as an HDF5 file via `model.save()` or `keras.saving.save_model(model)`. This file format is considered legacy. We recommend using instead the native Keras format, e.g. `model.save('my_model.keras')` or `keras.saving.save_model(model, 'my_model.keras')`. \n"
          ]
        }
      ]
    }
  ]
}